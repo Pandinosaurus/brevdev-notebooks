{
 "cells": [
  {
   "cell_type": "markdown",
   "id": "184878ec-80c1-4533-a7f8-f7fecbc3d8ad",
   "metadata": {},
   "source": [
    "# Build a RAG using a locally hosted NIM\n",
    "\n",
    "This notebook demonstrates how to build a RAG using NVIDIA NIM microservices. We locally host a Llama3-8b-instruct model using [NVIDIA NIM for LLMs](https://docs.nvidia.com/nim/large-language-models/latest/introduction.html) and connect to it using [LangChain NVIDIA AI Endpoints](https://python.langchain.com/docs/integrations/chat/nvidia_ai_endpoints/) package.\n",
    "\n",
    "We then create a vector store by downloading web pages and generating their embeddings using FAISS. We then showcase two different chat chains for querying the vector store. For this example, we use the NVIDIA Triton documentation website, though the code can be easily modified to use any other source. For the embedding model, we use [the GPU accelerated NV-Embed-QA model from NVIDIA API Catalog](https://build.nvidia.com/nvidia/embed-qa-4).\n",
    "\n",
    "### First stage is to load NVIDIA Triton documentation from the web, chunkify the data, and generate embeddings using FAISS\n",
    "\n",
    "To get started:\n",
    "\n",
    "1. Generate an [NGC CLI API key] On build.nvidia.com. This key will need to be passed to docker run in the next section as the NGC_API_KEY environment variable to download the appropriate models and resources when starting the NIM."
   ]
  },
  {
   "cell_type": "markdown",
   "id": "225c7185",
   "metadata": {},
   "source": [
    "Note: In order to run this notebook, you need to launch the NIM Docker container in the terminal outside of the web browser notebook environment. Run the commands in the first 3 cells from a terminal then begin with the 4th cell (curl inference command) within the notebook environment (web browser)."
   ]
  },
  {
   "cell_type": "markdown",
   "id": "19a7e489",
   "metadata": {},
   "source": [
    "Launch the NIM LLM microservice by executing this command from the terminal where you have exported all the environment variables."
   ]
  },
  {
   "cell_type": "code",
   "execution_count": 1,
   "id": "88f612dd",
   "metadata": {},
   "outputs": [
    {
     "name": "stderr",
     "output_type": "stream",
     "text": [
      "Error response from daemon: No such container: meta-llama3-8b-instruct\n",
      "Error response from daemon: No such container: meta-llama3-8b-instruct\n",
      "WARNING! Your password will be stored unencrypted in /home/ubuntu/.docker/config.json.\n",
      "Configure a credential helper to remove this warning. See\n",
      "https://docs.docker.com/engine/reference/commandline/login/#credential-stores\n",
      "\n"
     ]
    },
    {
     "name": "stdout",
     "output_type": "stream",
     "text": [
      "Login Succeeded\n"
     ]
    },
    {
     "name": "stderr",
     "output_type": "stream",
     "text": [
      "Unable to find image 'nvcr.io/nim/meta/llama3-8b-instruct:1.0.0' locally\n",
      "1.0.0: Pulling from nim/meta/llama3-8b-instruct\n",
      "5e8117c0bd28: Pulling fs layer\n",
      "d67fcc6ef577: Pulling fs layer\n",
      "47ee674c5713: Pulling fs layer\n",
      "63daa0e64b30: Pulling fs layer\n",
      "d9d9aecefab5: Pulling fs layer\n",
      "d71f46a15657: Pulling fs layer\n",
      "054e2ffff644: Pulling fs layer\n",
      "7d3cd81654d5: Pulling fs layer\n",
      "dca613dca886: Pulling fs layer\n",
      "0fdcdcda3b2e: Pulling fs layer\n",
      "af7b4f7dc15a: Pulling fs layer\n",
      "6d101782f66c: Pulling fs layer\n",
      "e8427cb13897: Pulling fs layer\n",
      "de05b029a5a2: Pulling fs layer\n",
      "3d72a2698104: Pulling fs layer\n",
      "aeff973c2191: Pulling fs layer\n",
      "85d7d3ff0cca: Pulling fs layer\n",
      "5996430251dd: Pulling fs layer\n",
      "314dc83fdfc2: Pulling fs layer\n",
      "5cef8f59ae9a: Pulling fs layer\n",
      "927db4ce3e96: Pulling fs layer\n",
      "cbe4a04f4491: Pulling fs layer\n",
      "60f1a03c0955: Pulling fs layer\n",
      "67c1bb2b1aac: Pulling fs layer\n",
      "f16f7b821143: Pulling fs layer\n",
      "9be4fff0cd1a: Pulling fs layer\n",
      "de05b029a5a2: Waiting\n",
      "3d72a2698104: Waiting\n",
      "aeff973c2191: Waiting\n",
      "85d7d3ff0cca: Waiting\n",
      "5996430251dd: Waiting\n",
      "314dc83fdfc2: Waiting\n",
      "5cef8f59ae9a: Waiting\n",
      "927db4ce3e96: Waiting\n",
      "cbe4a04f4491: Waiting\n",
      "60f1a03c0955: Waiting\n",
      "67c1bb2b1aac: Waiting\n",
      "f16f7b821143: Waiting\n",
      "63daa0e64b30: Waiting\n",
      "d9d9aecefab5: Waiting\n",
      "9be4fff0cd1a: Waiting\n",
      "0fdcdcda3b2e: Waiting\n",
      "d71f46a15657: Waiting\n",
      "af7b4f7dc15a: Waiting\n",
      "6d101782f66c: Waiting\n",
      "054e2ffff644: Waiting\n",
      "e8427cb13897: Waiting\n",
      "7d3cd81654d5: Waiting\n",
      "dca613dca886: Waiting\n",
      "d67fcc6ef577: Verifying Checksum\n",
      "d67fcc6ef577: Download complete\n",
      "5e8117c0bd28: Verifying Checksum\n",
      "5e8117c0bd28: Download complete\n",
      "47ee674c5713: Download complete\n",
      "63daa0e64b30: Verifying Checksum\n",
      "63daa0e64b30: Download complete\n",
      "d9d9aecefab5: Download complete\n",
      "d71f46a15657: Download complete\n",
      "5e8117c0bd28: Pull complete\n",
      "d67fcc6ef577: Pull complete\n",
      "47ee674c5713: Pull complete\n",
      "63daa0e64b30: Pull complete\n",
      "d9d9aecefab5: Pull complete\n",
      "d71f46a15657: Pull complete\n",
      "dca613dca886: Verifying Checksum\n",
      "dca613dca886: Download complete\n",
      "0fdcdcda3b2e: Verifying Checksum\n",
      "0fdcdcda3b2e: Download complete\n",
      "7d3cd81654d5: Verifying Checksum\n",
      "7d3cd81654d5: Download complete\n",
      "6d101782f66c: Verifying Checksum\n",
      "6d101782f66c: Download complete\n",
      "e8427cb13897: Verifying Checksum\n",
      "e8427cb13897: Download complete\n",
      "de05b029a5a2: Verifying Checksum\n",
      "de05b029a5a2: Download complete\n",
      "054e2ffff644: Verifying Checksum\n",
      "054e2ffff644: Download complete\n",
      "3d72a2698104: Verifying Checksum\n",
      "3d72a2698104: Download complete\n",
      "aeff973c2191: Verifying Checksum\n",
      "aeff973c2191: Download complete\n",
      "85d7d3ff0cca: Download complete\n",
      "5996430251dd: Verifying Checksum\n",
      "5996430251dd: Download complete\n",
      "314dc83fdfc2: Verifying Checksum\n",
      "314dc83fdfc2: Download complete\n",
      "5cef8f59ae9a: Verifying Checksum\n",
      "5cef8f59ae9a: Download complete\n",
      "927db4ce3e96: Verifying Checksum\n",
      "927db4ce3e96: Download complete\n",
      "cbe4a04f4491: Verifying Checksum\n",
      "cbe4a04f4491: Download complete\n",
      "60f1a03c0955: Verifying Checksum\n",
      "60f1a03c0955: Download complete\n",
      "af7b4f7dc15a: Verifying Checksum\n",
      "af7b4f7dc15a: Download complete\n",
      "67c1bb2b1aac: Verifying Checksum\n",
      "67c1bb2b1aac: Download complete\n",
      "f16f7b821143: Download complete\n",
      "9be4fff0cd1a: Download complete\n",
      "054e2ffff644: Pull complete\n",
      "7d3cd81654d5: Pull complete\n",
      "dca613dca886: Pull complete\n",
      "0fdcdcda3b2e: Pull complete\n",
      "af7b4f7dc15a: Pull complete\n",
      "6d101782f66c: Pull complete\n",
      "e8427cb13897: Pull complete\n",
      "de05b029a5a2: Pull complete\n",
      "3d72a2698104: Pull complete\n",
      "aeff973c2191: Pull complete\n",
      "85d7d3ff0cca: Pull complete\n",
      "5996430251dd: Pull complete\n",
      "314dc83fdfc2: Pull complete\n",
      "5cef8f59ae9a: Pull complete\n",
      "927db4ce3e96: Pull complete\n",
      "cbe4a04f4491: Pull complete\n",
      "60f1a03c0955: Pull complete\n",
      "67c1bb2b1aac: Pull complete\n",
      "f16f7b821143: Pull complete\n",
      "9be4fff0cd1a: Pull complete\n",
      "Digest: sha256:7fe6071923b547edd9fba87c891a362ea0b4a88794b8a422d63127e54caa6ef7\n",
      "Status: Downloaded newer image for nvcr.io/nim/meta/llama3-8b-instruct:1.0.0\n"
     ]
    },
    {
     "name": "stdout",
     "output_type": "stream",
     "text": [
      "3116ed3731d3a83ebb64278d0565319b63ffe527216124b9663a7a034b3d8b0c\n",
      "Container started, waiting for service to be ready...\n",
      "Attempt 1/30: Service not ready yet, waiting...\n",
      "Attempt 2/30: Service not ready yet, waiting...\n",
      "Attempt 3/30: Service not ready yet, waiting...\n",
      "Attempt 4/30: Service not ready yet, waiting...\n",
      "Attempt 5/30: Service not ready yet, waiting...\n",
      "Service is ready!\n"
     ]
    }
   ],
   "source": [
    "%%bash\n",
    "# Stop and remove existing container\n",
    "docker stop meta-llama3-8b-instruct || true\n",
    "docker rm meta-llama3-8b-instruct || true\n",
    "\n",
    "NGC_API_KEY=\"NVIDIA_API_KEY\"\n",
    "\n",
    "echo \"${NGC_API_KEY}\" | docker login nvcr.io -u \"\\$oauthtoken\" --password-stdin\n",
    "\n",
    "# Create and set permissions for cache directories\n",
    "mkdir -p $HOME/.nim-cache\n",
    "chmod -R 777 $HOME/.nim-cache\n",
    "\n",
    "# Start container\n",
    "docker run -d \\\n",
    "    --name meta-llama3-8b-instruct \\\n",
    "    --gpus all \\\n",
    "    --shm-size=16GB \\\n",
    "    -e NGC_API_KEY=\"${NGC_API_KEY}\" \\\n",
    "    -v $HOME/.nim-cache:/opt/nim/.cache \\\n",
    "    --user root \\\n",
    "    --network=container:verb-workspace \\\n",
    "    nvcr.io/nim/meta/llama3-8b-instruct:1.0.0\n",
    "\n",
    "echo \"Container started, waiting for service to be ready...\"\n",
    "\n",
    "# Loop until the service is ready\n",
    "max_attempts=30\n",
    "attempt=0\n",
    "while [ $attempt -lt $max_attempts ]; do\n",
    "    if curl -s http://localhost:8000/v1/health/ready > /dev/null; then\n",
    "        echo \"Service is ready!\"\n",
    "        break\n",
    "    else\n",
    "        attempt=$((attempt + 1))\n",
    "        echo \"Attempt $attempt/$max_attempts: Service not ready yet, waiting...\"\n",
    "        sleep 10\n",
    "    fi\n",
    "done\n",
    "\n",
    "if [ $attempt -eq $max_attempts ]; then\n",
    "    echo \"Service failed to become ready after $max_attempts attempts\"\n",
    "    docker logs meta-llama3-8b-instruct\n",
    "    exit 1\n",
    "fi"
   ]
  },
  {
   "cell_type": "markdown",
   "id": "37e2fcda",
   "metadata": {},
   "source": [
    "Before we continue and connect the NIM to LangChain, let's test it using a simple OpenAI completion request. You can execute this command and all the subsequent one after this from your web browser."
   ]
  },
  {
   "cell_type": "code",
   "execution_count": 2,
   "id": "af3bf04b",
   "metadata": {},
   "outputs": [
    {
     "name": "stdout",
     "output_type": "stream",
     "text": [
      "{\"id\":\"cmpl-7b43d98dc1264bfd9b5b57a88bc98114\",\"object\":\"text_completion\",\"created\":1734035097,\"model\":\"meta/llama3-8b-instruct\",\"choices\":[{\"index\":0,\"text\":\", in a small village nestled in the rolling hills of the countryside, there lived a young girl named Sophie. Sophie was a curious and adventurous child, with a mop of curly brown hair and a smile that could light up a room. She loved to explore the world around her, and was constantly asking questions about the mysteries\",\"logprobs\":null,\"finish_reason\":\"length\",\"stop_reason\":null}],\"usage\":{\"prompt_tokens\":5,\"total_tokens\":69,\"completion_tokens\":64}}"
     ]
    }
   ],
   "source": [
    "!curl -X 'POST' \\\n",
    "    \"http://0.0.0.0:8000/v1/completions\" \\\n",
    "    -H \"accept: application/json\" \\\n",
    "    -H \"Content-Type: application/json\" \\\n",
    "    -d '{\"model\": \"meta/llama3-8b-instruct\", \"prompt\": \"Once upon a time\", \"max_tokens\": 64}'"
   ]
  },
  {
   "cell_type": "markdown",
   "id": "79c2aa6f",
   "metadata": {},
   "source": [
    "Now setup the LangChain flow by installing prerequisite libraries"
   ]
  },
  {
   "cell_type": "code",
   "execution_count": 10,
   "id": "5966ea5a",
   "metadata": {},
   "outputs": [
    {
     "name": "stdout",
     "output_type": "stream",
     "text": [
      "Found existing installation: langchain 0.3.11\n",
      "Uninstalling langchain-0.3.11:\n",
      "  Successfully uninstalled langchain-0.3.11\n",
      "Found existing installation: langchain-nvidia-ai-endpoints 0.3.5\n",
      "Uninstalling langchain-nvidia-ai-endpoints-0.3.5:\n",
      "  Successfully uninstalled langchain-nvidia-ai-endpoints-0.3.5\n",
      "Found existing installation: langchain-core 0.3.24\n",
      "Uninstalling langchain-core-0.3.24:\n",
      "  Successfully uninstalled langchain-core-0.3.24\n",
      "\u001b[33mWARNING: Skipping langchain-community as it is not installed.\u001b[0m\u001b[33m\n",
      "\u001b[0mFound existing installation: langchain-text-splitters 0.3.2\n",
      "Uninstalling langchain-text-splitters-0.3.2:\n",
      "  Successfully uninstalled langchain-text-splitters-0.3.2\n",
      "Found existing installation: langsmith 0.2.3\n",
      "Uninstalling langsmith-0.2.3:\n",
      "  Successfully uninstalled langsmith-0.2.3\n",
      "Requirement already satisfied: pip in /home/ubuntu/.pyenv/versions/3.10.14/lib/python3.10/site-packages (24.3.1)\n",
      "Collecting langchain\n",
      "  Using cached langchain-0.3.11-py3-none-any.whl.metadata (7.1 kB)\n",
      "Requirement already satisfied: PyYAML>=5.3 in /home/ubuntu/.pyenv/versions/3.10.14/lib/python3.10/site-packages (from langchain) (6.0.2)\n",
      "Requirement already satisfied: SQLAlchemy<3,>=1.4 in /home/ubuntu/.pyenv/versions/3.10.14/lib/python3.10/site-packages (from langchain) (2.0.36)\n",
      "Requirement already satisfied: aiohttp<4.0.0,>=3.8.3 in /home/ubuntu/.pyenv/versions/3.10.14/lib/python3.10/site-packages (from langchain) (3.11.10)\n",
      "Requirement already satisfied: async-timeout<5.0.0,>=4.0.0 in /home/ubuntu/.pyenv/versions/3.10.14/lib/python3.10/site-packages (from langchain) (4.0.3)\n",
      "Collecting langchain-core<0.4.0,>=0.3.24 (from langchain)\n",
      "  Using cached langchain_core-0.3.24-py3-none-any.whl.metadata (6.3 kB)\n",
      "Collecting langchain-text-splitters<0.4.0,>=0.3.0 (from langchain)\n",
      "  Using cached langchain_text_splitters-0.3.2-py3-none-any.whl.metadata (2.3 kB)\n",
      "Collecting langsmith<0.3,>=0.1.17 (from langchain)\n",
      "  Using cached langsmith-0.2.3-py3-none-any.whl.metadata (14 kB)\n",
      "Requirement already satisfied: numpy<2,>=1.22.4 in /home/ubuntu/.pyenv/versions/3.10.14/lib/python3.10/site-packages (from langchain) (1.26.4)\n",
      "Requirement already satisfied: pydantic<3.0.0,>=2.7.4 in /home/ubuntu/.pyenv/versions/3.10.14/lib/python3.10/site-packages (from langchain) (2.10.3)\n",
      "Requirement already satisfied: requests<3,>=2 in /home/ubuntu/.pyenv/versions/3.10.14/lib/python3.10/site-packages (from langchain) (2.32.3)\n",
      "Requirement already satisfied: tenacity!=8.4.0,<10,>=8.1.0 in /home/ubuntu/.pyenv/versions/3.10.14/lib/python3.10/site-packages (from langchain) (8.5.0)\n",
      "Requirement already satisfied: aiohappyeyeballs>=2.3.0 in /home/ubuntu/.pyenv/versions/3.10.14/lib/python3.10/site-packages (from aiohttp<4.0.0,>=3.8.3->langchain) (2.4.4)\n",
      "Requirement already satisfied: aiosignal>=1.1.2 in /home/ubuntu/.pyenv/versions/3.10.14/lib/python3.10/site-packages (from aiohttp<4.0.0,>=3.8.3->langchain) (1.3.1)\n",
      "Requirement already satisfied: attrs>=17.3.0 in /home/ubuntu/.pyenv/versions/3.10.14/lib/python3.10/site-packages (from aiohttp<4.0.0,>=3.8.3->langchain) (24.2.0)\n",
      "Requirement already satisfied: frozenlist>=1.1.1 in /home/ubuntu/.pyenv/versions/3.10.14/lib/python3.10/site-packages (from aiohttp<4.0.0,>=3.8.3->langchain) (1.5.0)\n",
      "Requirement already satisfied: multidict<7.0,>=4.5 in /home/ubuntu/.pyenv/versions/3.10.14/lib/python3.10/site-packages (from aiohttp<4.0.0,>=3.8.3->langchain) (6.1.0)\n",
      "Requirement already satisfied: propcache>=0.2.0 in /home/ubuntu/.pyenv/versions/3.10.14/lib/python3.10/site-packages (from aiohttp<4.0.0,>=3.8.3->langchain) (0.2.1)\n",
      "Requirement already satisfied: yarl<2.0,>=1.17.0 in /home/ubuntu/.pyenv/versions/3.10.14/lib/python3.10/site-packages (from aiohttp<4.0.0,>=3.8.3->langchain) (1.18.3)\n",
      "Requirement already satisfied: jsonpatch<2.0,>=1.33 in /home/ubuntu/.pyenv/versions/3.10.14/lib/python3.10/site-packages (from langchain-core<0.4.0,>=0.3.24->langchain) (1.33)\n",
      "Requirement already satisfied: packaging<25,>=23.2 in /home/ubuntu/.pyenv/versions/3.10.14/lib/python3.10/site-packages (from langchain-core<0.4.0,>=0.3.24->langchain) (23.2)\n",
      "Requirement already satisfied: typing-extensions>=4.7 in /home/ubuntu/.pyenv/versions/3.10.14/lib/python3.10/site-packages (from langchain-core<0.4.0,>=0.3.24->langchain) (4.12.2)\n",
      "Requirement already satisfied: httpx<1,>=0.23.0 in /home/ubuntu/.pyenv/versions/3.10.14/lib/python3.10/site-packages (from langsmith<0.3,>=0.1.17->langchain) (0.27.0)\n",
      "Requirement already satisfied: orjson<4.0.0,>=3.9.14 in /home/ubuntu/.pyenv/versions/3.10.14/lib/python3.10/site-packages (from langsmith<0.3,>=0.1.17->langchain) (3.10.12)\n",
      "Requirement already satisfied: requests-toolbelt<2.0.0,>=1.0.0 in /home/ubuntu/.pyenv/versions/3.10.14/lib/python3.10/site-packages (from langsmith<0.3,>=0.1.17->langchain) (1.0.0)\n",
      "Requirement already satisfied: annotated-types>=0.6.0 in /home/ubuntu/.pyenv/versions/3.10.14/lib/python3.10/site-packages (from pydantic<3.0.0,>=2.7.4->langchain) (0.7.0)\n",
      "Requirement already satisfied: pydantic-core==2.27.1 in /home/ubuntu/.pyenv/versions/3.10.14/lib/python3.10/site-packages (from pydantic<3.0.0,>=2.7.4->langchain) (2.27.1)\n",
      "Requirement already satisfied: charset-normalizer<4,>=2 in /home/ubuntu/.pyenv/versions/3.10.14/lib/python3.10/site-packages (from requests<3,>=2->langchain) (3.3.2)\n",
      "Requirement already satisfied: idna<4,>=2.5 in /home/ubuntu/.pyenv/versions/3.10.14/lib/python3.10/site-packages (from requests<3,>=2->langchain) (3.7)\n",
      "Requirement already satisfied: urllib3<3,>=1.21.1 in /home/ubuntu/.pyenv/versions/3.10.14/lib/python3.10/site-packages (from requests<3,>=2->langchain) (2.2.2)\n",
      "Requirement already satisfied: certifi>=2017.4.17 in /home/ubuntu/.pyenv/versions/3.10.14/lib/python3.10/site-packages (from requests<3,>=2->langchain) (2024.7.4)\n",
      "Requirement already satisfied: greenlet!=0.4.17 in /home/ubuntu/.pyenv/versions/3.10.14/lib/python3.10/site-packages (from SQLAlchemy<3,>=1.4->langchain) (3.1.1)\n",
      "Requirement already satisfied: anyio in /home/ubuntu/.pyenv/versions/3.10.14/lib/python3.10/site-packages (from httpx<1,>=0.23.0->langsmith<0.3,>=0.1.17->langchain) (4.4.0)\n",
      "Requirement already satisfied: httpcore==1.* in /home/ubuntu/.pyenv/versions/3.10.14/lib/python3.10/site-packages (from httpx<1,>=0.23.0->langsmith<0.3,>=0.1.17->langchain) (1.0.5)\n",
      "Requirement already satisfied: sniffio in /home/ubuntu/.pyenv/versions/3.10.14/lib/python3.10/site-packages (from httpx<1,>=0.23.0->langsmith<0.3,>=0.1.17->langchain) (1.3.1)\n",
      "Requirement already satisfied: h11<0.15,>=0.13 in /home/ubuntu/.pyenv/versions/3.10.14/lib/python3.10/site-packages (from httpcore==1.*->httpx<1,>=0.23.0->langsmith<0.3,>=0.1.17->langchain) (0.14.0)\n",
      "Requirement already satisfied: jsonpointer>=1.9 in /home/ubuntu/.pyenv/versions/3.10.14/lib/python3.10/site-packages (from jsonpatch<2.0,>=1.33->langchain-core<0.4.0,>=0.3.24->langchain) (3.0.0)\n",
      "Requirement already satisfied: exceptiongroup>=1.0.2 in /home/ubuntu/.pyenv/versions/3.10.14/lib/python3.10/site-packages (from anyio->httpx<1,>=0.23.0->langsmith<0.3,>=0.1.17->langchain) (1.2.2)\n",
      "Using cached langchain-0.3.11-py3-none-any.whl (1.0 MB)\n",
      "Using cached langchain_core-0.3.24-py3-none-any.whl (410 kB)\n",
      "Using cached langchain_text_splitters-0.3.2-py3-none-any.whl (25 kB)\n",
      "Using cached langsmith-0.2.3-py3-none-any.whl (320 kB)\n",
      "Installing collected packages: langsmith, langchain-core, langchain-text-splitters, langchain\n",
      "Successfully installed langchain-0.3.11 langchain-core-0.3.24 langchain-text-splitters-0.3.2 langsmith-0.2.3\n",
      "Collecting langchain-nvidia-ai-endpoints\n",
      "  Using cached langchain_nvidia_ai_endpoints-0.3.5-py3-none-any.whl.metadata (11 kB)\n",
      "Requirement already satisfied: aiohttp<4.0.0,>=3.9.1 in /home/ubuntu/.pyenv/versions/3.10.14/lib/python3.10/site-packages (from langchain-nvidia-ai-endpoints) (3.11.10)\n",
      "Requirement already satisfied: langchain-core<0.4,>=0.3.0 in /home/ubuntu/.pyenv/versions/3.10.14/lib/python3.10/site-packages (from langchain-nvidia-ai-endpoints) (0.3.24)\n",
      "Requirement already satisfied: pillow<11.0.0,>=10.0.0 in /home/ubuntu/.pyenv/versions/3.10.14/lib/python3.10/site-packages (from langchain-nvidia-ai-endpoints) (10.4.0)\n",
      "Requirement already satisfied: aiohappyeyeballs>=2.3.0 in /home/ubuntu/.pyenv/versions/3.10.14/lib/python3.10/site-packages (from aiohttp<4.0.0,>=3.9.1->langchain-nvidia-ai-endpoints) (2.4.4)\n",
      "Requirement already satisfied: aiosignal>=1.1.2 in /home/ubuntu/.pyenv/versions/3.10.14/lib/python3.10/site-packages (from aiohttp<4.0.0,>=3.9.1->langchain-nvidia-ai-endpoints) (1.3.1)\n",
      "Requirement already satisfied: async-timeout<6.0,>=4.0 in /home/ubuntu/.pyenv/versions/3.10.14/lib/python3.10/site-packages (from aiohttp<4.0.0,>=3.9.1->langchain-nvidia-ai-endpoints) (4.0.3)\n",
      "Requirement already satisfied: attrs>=17.3.0 in /home/ubuntu/.pyenv/versions/3.10.14/lib/python3.10/site-packages (from aiohttp<4.0.0,>=3.9.1->langchain-nvidia-ai-endpoints) (24.2.0)\n",
      "Requirement already satisfied: frozenlist>=1.1.1 in /home/ubuntu/.pyenv/versions/3.10.14/lib/python3.10/site-packages (from aiohttp<4.0.0,>=3.9.1->langchain-nvidia-ai-endpoints) (1.5.0)\n",
      "Requirement already satisfied: multidict<7.0,>=4.5 in /home/ubuntu/.pyenv/versions/3.10.14/lib/python3.10/site-packages (from aiohttp<4.0.0,>=3.9.1->langchain-nvidia-ai-endpoints) (6.1.0)\n",
      "Requirement already satisfied: propcache>=0.2.0 in /home/ubuntu/.pyenv/versions/3.10.14/lib/python3.10/site-packages (from aiohttp<4.0.0,>=3.9.1->langchain-nvidia-ai-endpoints) (0.2.1)\n",
      "Requirement already satisfied: yarl<2.0,>=1.17.0 in /home/ubuntu/.pyenv/versions/3.10.14/lib/python3.10/site-packages (from aiohttp<4.0.0,>=3.9.1->langchain-nvidia-ai-endpoints) (1.18.3)\n",
      "Requirement already satisfied: PyYAML>=5.3 in /home/ubuntu/.pyenv/versions/3.10.14/lib/python3.10/site-packages (from langchain-core<0.4,>=0.3.0->langchain-nvidia-ai-endpoints) (6.0.2)\n",
      "Requirement already satisfied: jsonpatch<2.0,>=1.33 in /home/ubuntu/.pyenv/versions/3.10.14/lib/python3.10/site-packages (from langchain-core<0.4,>=0.3.0->langchain-nvidia-ai-endpoints) (1.33)\n",
      "Requirement already satisfied: langsmith<0.3,>=0.1.125 in /home/ubuntu/.pyenv/versions/3.10.14/lib/python3.10/site-packages (from langchain-core<0.4,>=0.3.0->langchain-nvidia-ai-endpoints) (0.2.3)\n",
      "Requirement already satisfied: packaging<25,>=23.2 in /home/ubuntu/.pyenv/versions/3.10.14/lib/python3.10/site-packages (from langchain-core<0.4,>=0.3.0->langchain-nvidia-ai-endpoints) (23.2)\n",
      "Requirement already satisfied: pydantic<3.0.0,>=2.5.2 in /home/ubuntu/.pyenv/versions/3.10.14/lib/python3.10/site-packages (from langchain-core<0.4,>=0.3.0->langchain-nvidia-ai-endpoints) (2.10.3)\n",
      "Requirement already satisfied: tenacity!=8.4.0,<10.0.0,>=8.1.0 in /home/ubuntu/.pyenv/versions/3.10.14/lib/python3.10/site-packages (from langchain-core<0.4,>=0.3.0->langchain-nvidia-ai-endpoints) (8.5.0)\n",
      "Requirement already satisfied: typing-extensions>=4.7 in /home/ubuntu/.pyenv/versions/3.10.14/lib/python3.10/site-packages (from langchain-core<0.4,>=0.3.0->langchain-nvidia-ai-endpoints) (4.12.2)\n",
      "Requirement already satisfied: jsonpointer>=1.9 in /home/ubuntu/.pyenv/versions/3.10.14/lib/python3.10/site-packages (from jsonpatch<2.0,>=1.33->langchain-core<0.4,>=0.3.0->langchain-nvidia-ai-endpoints) (3.0.0)\n",
      "Requirement already satisfied: httpx<1,>=0.23.0 in /home/ubuntu/.pyenv/versions/3.10.14/lib/python3.10/site-packages (from langsmith<0.3,>=0.1.125->langchain-core<0.4,>=0.3.0->langchain-nvidia-ai-endpoints) (0.27.0)\n",
      "Requirement already satisfied: orjson<4.0.0,>=3.9.14 in /home/ubuntu/.pyenv/versions/3.10.14/lib/python3.10/site-packages (from langsmith<0.3,>=0.1.125->langchain-core<0.4,>=0.3.0->langchain-nvidia-ai-endpoints) (3.10.12)\n",
      "Requirement already satisfied: requests<3,>=2 in /home/ubuntu/.pyenv/versions/3.10.14/lib/python3.10/site-packages (from langsmith<0.3,>=0.1.125->langchain-core<0.4,>=0.3.0->langchain-nvidia-ai-endpoints) (2.32.3)\n",
      "Requirement already satisfied: requests-toolbelt<2.0.0,>=1.0.0 in /home/ubuntu/.pyenv/versions/3.10.14/lib/python3.10/site-packages (from langsmith<0.3,>=0.1.125->langchain-core<0.4,>=0.3.0->langchain-nvidia-ai-endpoints) (1.0.0)\n",
      "Requirement already satisfied: annotated-types>=0.6.0 in /home/ubuntu/.pyenv/versions/3.10.14/lib/python3.10/site-packages (from pydantic<3.0.0,>=2.5.2->langchain-core<0.4,>=0.3.0->langchain-nvidia-ai-endpoints) (0.7.0)\n",
      "Requirement already satisfied: pydantic-core==2.27.1 in /home/ubuntu/.pyenv/versions/3.10.14/lib/python3.10/site-packages (from pydantic<3.0.0,>=2.5.2->langchain-core<0.4,>=0.3.0->langchain-nvidia-ai-endpoints) (2.27.1)\n",
      "Requirement already satisfied: idna>=2.0 in /home/ubuntu/.pyenv/versions/3.10.14/lib/python3.10/site-packages (from yarl<2.0,>=1.17.0->aiohttp<4.0.0,>=3.9.1->langchain-nvidia-ai-endpoints) (3.7)\n",
      "Requirement already satisfied: anyio in /home/ubuntu/.pyenv/versions/3.10.14/lib/python3.10/site-packages (from httpx<1,>=0.23.0->langsmith<0.3,>=0.1.125->langchain-core<0.4,>=0.3.0->langchain-nvidia-ai-endpoints) (4.4.0)\n",
      "Requirement already satisfied: certifi in /home/ubuntu/.pyenv/versions/3.10.14/lib/python3.10/site-packages (from httpx<1,>=0.23.0->langsmith<0.3,>=0.1.125->langchain-core<0.4,>=0.3.0->langchain-nvidia-ai-endpoints) (2024.7.4)\n",
      "Requirement already satisfied: httpcore==1.* in /home/ubuntu/.pyenv/versions/3.10.14/lib/python3.10/site-packages (from httpx<1,>=0.23.0->langsmith<0.3,>=0.1.125->langchain-core<0.4,>=0.3.0->langchain-nvidia-ai-endpoints) (1.0.5)\n",
      "Requirement already satisfied: sniffio in /home/ubuntu/.pyenv/versions/3.10.14/lib/python3.10/site-packages (from httpx<1,>=0.23.0->langsmith<0.3,>=0.1.125->langchain-core<0.4,>=0.3.0->langchain-nvidia-ai-endpoints) (1.3.1)\n",
      "Requirement already satisfied: h11<0.15,>=0.13 in /home/ubuntu/.pyenv/versions/3.10.14/lib/python3.10/site-packages (from httpcore==1.*->httpx<1,>=0.23.0->langsmith<0.3,>=0.1.125->langchain-core<0.4,>=0.3.0->langchain-nvidia-ai-endpoints) (0.14.0)\n",
      "Requirement already satisfied: charset-normalizer<4,>=2 in /home/ubuntu/.pyenv/versions/3.10.14/lib/python3.10/site-packages (from requests<3,>=2->langsmith<0.3,>=0.1.125->langchain-core<0.4,>=0.3.0->langchain-nvidia-ai-endpoints) (3.3.2)\n",
      "Requirement already satisfied: urllib3<3,>=1.21.1 in /home/ubuntu/.pyenv/versions/3.10.14/lib/python3.10/site-packages (from requests<3,>=2->langsmith<0.3,>=0.1.125->langchain-core<0.4,>=0.3.0->langchain-nvidia-ai-endpoints) (2.2.2)\n",
      "Requirement already satisfied: exceptiongroup>=1.0.2 in /home/ubuntu/.pyenv/versions/3.10.14/lib/python3.10/site-packages (from anyio->httpx<1,>=0.23.0->langsmith<0.3,>=0.1.125->langchain-core<0.4,>=0.3.0->langchain-nvidia-ai-endpoints) (1.2.2)\n",
      "Using cached langchain_nvidia_ai_endpoints-0.3.5-py3-none-any.whl (41 kB)\n",
      "Installing collected packages: langchain-nvidia-ai-endpoints\n",
      "Successfully installed langchain-nvidia-ai-endpoints-0.3.5\n",
      "Requirement already satisfied: faiss-gpu in /home/ubuntu/.pyenv/versions/3.10.14/lib/python3.10/site-packages (1.7.2)\n",
      "Collecting langchain-community\n",
      "  Downloading langchain_community-0.3.11-py3-none-any.whl.metadata (2.9 kB)\n",
      "Requirement already satisfied: PyYAML>=5.3 in /home/ubuntu/.pyenv/versions/3.10.14/lib/python3.10/site-packages (from langchain-community) (6.0.2)\n",
      "Requirement already satisfied: SQLAlchemy<3,>=1.4 in /home/ubuntu/.pyenv/versions/3.10.14/lib/python3.10/site-packages (from langchain-community) (2.0.36)\n",
      "Requirement already satisfied: aiohttp<4.0.0,>=3.8.3 in /home/ubuntu/.pyenv/versions/3.10.14/lib/python3.10/site-packages (from langchain-community) (3.11.10)\n",
      "Requirement already satisfied: dataclasses-json<0.7,>=0.5.7 in /home/ubuntu/.pyenv/versions/3.10.14/lib/python3.10/site-packages (from langchain-community) (0.6.7)\n",
      "Collecting httpx-sse<0.5.0,>=0.4.0 (from langchain-community)\n",
      "  Downloading httpx_sse-0.4.0-py3-none-any.whl.metadata (9.0 kB)\n",
      "Requirement already satisfied: langchain<0.4.0,>=0.3.11 in /home/ubuntu/.pyenv/versions/3.10.14/lib/python3.10/site-packages (from langchain-community) (0.3.11)\n",
      "Requirement already satisfied: langchain-core<0.4.0,>=0.3.24 in /home/ubuntu/.pyenv/versions/3.10.14/lib/python3.10/site-packages (from langchain-community) (0.3.24)\n",
      "Requirement already satisfied: langsmith<0.3,>=0.1.125 in /home/ubuntu/.pyenv/versions/3.10.14/lib/python3.10/site-packages (from langchain-community) (0.2.3)\n",
      "Requirement already satisfied: numpy<2,>=1.22.4 in /home/ubuntu/.pyenv/versions/3.10.14/lib/python3.10/site-packages (from langchain-community) (1.26.4)\n",
      "Collecting pydantic-settings<3.0.0,>=2.4.0 (from langchain-community)\n",
      "  Downloading pydantic_settings-2.6.1-py3-none-any.whl.metadata (3.5 kB)\n",
      "Requirement already satisfied: requests<3,>=2 in /home/ubuntu/.pyenv/versions/3.10.14/lib/python3.10/site-packages (from langchain-community) (2.32.3)\n",
      "Requirement already satisfied: tenacity!=8.4.0,<10,>=8.1.0 in /home/ubuntu/.pyenv/versions/3.10.14/lib/python3.10/site-packages (from langchain-community) (8.5.0)\n",
      "Requirement already satisfied: aiohappyeyeballs>=2.3.0 in /home/ubuntu/.pyenv/versions/3.10.14/lib/python3.10/site-packages (from aiohttp<4.0.0,>=3.8.3->langchain-community) (2.4.4)\n",
      "Requirement already satisfied: aiosignal>=1.1.2 in /home/ubuntu/.pyenv/versions/3.10.14/lib/python3.10/site-packages (from aiohttp<4.0.0,>=3.8.3->langchain-community) (1.3.1)\n",
      "Requirement already satisfied: async-timeout<6.0,>=4.0 in /home/ubuntu/.pyenv/versions/3.10.14/lib/python3.10/site-packages (from aiohttp<4.0.0,>=3.8.3->langchain-community) (4.0.3)\n",
      "Requirement already satisfied: attrs>=17.3.0 in /home/ubuntu/.pyenv/versions/3.10.14/lib/python3.10/site-packages (from aiohttp<4.0.0,>=3.8.3->langchain-community) (24.2.0)\n",
      "Requirement already satisfied: frozenlist>=1.1.1 in /home/ubuntu/.pyenv/versions/3.10.14/lib/python3.10/site-packages (from aiohttp<4.0.0,>=3.8.3->langchain-community) (1.5.0)\n",
      "Requirement already satisfied: multidict<7.0,>=4.5 in /home/ubuntu/.pyenv/versions/3.10.14/lib/python3.10/site-packages (from aiohttp<4.0.0,>=3.8.3->langchain-community) (6.1.0)\n",
      "Requirement already satisfied: propcache>=0.2.0 in /home/ubuntu/.pyenv/versions/3.10.14/lib/python3.10/site-packages (from aiohttp<4.0.0,>=3.8.3->langchain-community) (0.2.1)\n",
      "Requirement already satisfied: yarl<2.0,>=1.17.0 in /home/ubuntu/.pyenv/versions/3.10.14/lib/python3.10/site-packages (from aiohttp<4.0.0,>=3.8.3->langchain-community) (1.18.3)\n",
      "Requirement already satisfied: marshmallow<4.0.0,>=3.18.0 in /home/ubuntu/.pyenv/versions/3.10.14/lib/python3.10/site-packages (from dataclasses-json<0.7,>=0.5.7->langchain-community) (3.23.1)\n",
      "Requirement already satisfied: typing-inspect<1,>=0.4.0 in /home/ubuntu/.pyenv/versions/3.10.14/lib/python3.10/site-packages (from dataclasses-json<0.7,>=0.5.7->langchain-community) (0.9.0)\n",
      "Requirement already satisfied: langchain-text-splitters<0.4.0,>=0.3.0 in /home/ubuntu/.pyenv/versions/3.10.14/lib/python3.10/site-packages (from langchain<0.4.0,>=0.3.11->langchain-community) (0.3.2)\n",
      "Requirement already satisfied: pydantic<3.0.0,>=2.7.4 in /home/ubuntu/.pyenv/versions/3.10.14/lib/python3.10/site-packages (from langchain<0.4.0,>=0.3.11->langchain-community) (2.10.3)\n",
      "Requirement already satisfied: jsonpatch<2.0,>=1.33 in /home/ubuntu/.pyenv/versions/3.10.14/lib/python3.10/site-packages (from langchain-core<0.4.0,>=0.3.24->langchain-community) (1.33)\n",
      "Requirement already satisfied: packaging<25,>=23.2 in /home/ubuntu/.pyenv/versions/3.10.14/lib/python3.10/site-packages (from langchain-core<0.4.0,>=0.3.24->langchain-community) (23.2)\n",
      "Requirement already satisfied: typing-extensions>=4.7 in /home/ubuntu/.pyenv/versions/3.10.14/lib/python3.10/site-packages (from langchain-core<0.4.0,>=0.3.24->langchain-community) (4.12.2)\n",
      "Requirement already satisfied: httpx<1,>=0.23.0 in /home/ubuntu/.pyenv/versions/3.10.14/lib/python3.10/site-packages (from langsmith<0.3,>=0.1.125->langchain-community) (0.27.0)\n",
      "Requirement already satisfied: orjson<4.0.0,>=3.9.14 in /home/ubuntu/.pyenv/versions/3.10.14/lib/python3.10/site-packages (from langsmith<0.3,>=0.1.125->langchain-community) (3.10.12)\n",
      "Requirement already satisfied: requests-toolbelt<2.0.0,>=1.0.0 in /home/ubuntu/.pyenv/versions/3.10.14/lib/python3.10/site-packages (from langsmith<0.3,>=0.1.125->langchain-community) (1.0.0)\n",
      "Collecting python-dotenv>=0.21.0 (from pydantic-settings<3.0.0,>=2.4.0->langchain-community)\n",
      "  Downloading python_dotenv-1.0.1-py3-none-any.whl.metadata (23 kB)\n",
      "Requirement already satisfied: charset-normalizer<4,>=2 in /home/ubuntu/.pyenv/versions/3.10.14/lib/python3.10/site-packages (from requests<3,>=2->langchain-community) (3.3.2)\n",
      "Requirement already satisfied: idna<4,>=2.5 in /home/ubuntu/.pyenv/versions/3.10.14/lib/python3.10/site-packages (from requests<3,>=2->langchain-community) (3.7)\n",
      "Requirement already satisfied: urllib3<3,>=1.21.1 in /home/ubuntu/.pyenv/versions/3.10.14/lib/python3.10/site-packages (from requests<3,>=2->langchain-community) (2.2.2)\n",
      "Requirement already satisfied: certifi>=2017.4.17 in /home/ubuntu/.pyenv/versions/3.10.14/lib/python3.10/site-packages (from requests<3,>=2->langchain-community) (2024.7.4)\n",
      "Requirement already satisfied: greenlet!=0.4.17 in /home/ubuntu/.pyenv/versions/3.10.14/lib/python3.10/site-packages (from SQLAlchemy<3,>=1.4->langchain-community) (3.1.1)\n",
      "Requirement already satisfied: anyio in /home/ubuntu/.pyenv/versions/3.10.14/lib/python3.10/site-packages (from httpx<1,>=0.23.0->langsmith<0.3,>=0.1.125->langchain-community) (4.4.0)\n",
      "Requirement already satisfied: httpcore==1.* in /home/ubuntu/.pyenv/versions/3.10.14/lib/python3.10/site-packages (from httpx<1,>=0.23.0->langsmith<0.3,>=0.1.125->langchain-community) (1.0.5)\n",
      "Requirement already satisfied: sniffio in /home/ubuntu/.pyenv/versions/3.10.14/lib/python3.10/site-packages (from httpx<1,>=0.23.0->langsmith<0.3,>=0.1.125->langchain-community) (1.3.1)\n",
      "Requirement already satisfied: h11<0.15,>=0.13 in /home/ubuntu/.pyenv/versions/3.10.14/lib/python3.10/site-packages (from httpcore==1.*->httpx<1,>=0.23.0->langsmith<0.3,>=0.1.125->langchain-community) (0.14.0)\n",
      "Requirement already satisfied: jsonpointer>=1.9 in /home/ubuntu/.pyenv/versions/3.10.14/lib/python3.10/site-packages (from jsonpatch<2.0,>=1.33->langchain-core<0.4.0,>=0.3.24->langchain-community) (3.0.0)\n",
      "Requirement already satisfied: annotated-types>=0.6.0 in /home/ubuntu/.pyenv/versions/3.10.14/lib/python3.10/site-packages (from pydantic<3.0.0,>=2.7.4->langchain<0.4.0,>=0.3.11->langchain-community) (0.7.0)\n",
      "Requirement already satisfied: pydantic-core==2.27.1 in /home/ubuntu/.pyenv/versions/3.10.14/lib/python3.10/site-packages (from pydantic<3.0.0,>=2.7.4->langchain<0.4.0,>=0.3.11->langchain-community) (2.27.1)\n",
      "Requirement already satisfied: mypy-extensions>=0.3.0 in /home/ubuntu/.pyenv/versions/3.10.14/lib/python3.10/site-packages (from typing-inspect<1,>=0.4.0->dataclasses-json<0.7,>=0.5.7->langchain-community) (1.0.0)\n",
      "Requirement already satisfied: exceptiongroup>=1.0.2 in /home/ubuntu/.pyenv/versions/3.10.14/lib/python3.10/site-packages (from anyio->httpx<1,>=0.23.0->langsmith<0.3,>=0.1.125->langchain-community) (1.2.2)\n",
      "Downloading langchain_community-0.3.11-py3-none-any.whl (2.5 MB)\n",
      "\u001b[2K   \u001b[90m━━━━━━━━━━━━━━━━━━━━━━━━━━━━━━━━━━━━━━━━\u001b[0m \u001b[32m2.5/2.5 MB\u001b[0m \u001b[31m103.8 MB/s\u001b[0m eta \u001b[36m0:00:00\u001b[0m\n",
      "\u001b[?25hDownloading httpx_sse-0.4.0-py3-none-any.whl (7.8 kB)\n",
      "Downloading pydantic_settings-2.6.1-py3-none-any.whl (28 kB)\n",
      "Downloading python_dotenv-1.0.1-py3-none-any.whl (19 kB)\n",
      "Installing collected packages: python-dotenv, httpx-sse, pydantic-settings, langchain-community\n",
      "Successfully installed httpx-sse-0.4.0 langchain-community-0.3.11 pydantic-settings-2.6.1 python-dotenv-1.0.1\n"
     ]
    }
   ],
   "source": [
    "!pip uninstall -y langchain langchain-nvidia-ai-endpoints langchain-core langchain-community langchain-text-splitters langsmith\n",
    "!pip install --upgrade pip\n",
    "!pip install langchain\n",
    "!pip install langchain-nvidia-ai-endpoints\n",
    "!pip install faiss-gpu\n",
    "!pip install -U langchain-community"
   ]
  },
  {
   "cell_type": "markdown",
   "id": "74b0c989",
   "metadata": {},
   "source": [
    "Set up NVIDIA API key, which you can get from the [API Catalog](https://build.nvidia.com/). This key will be used to communicate with GPU accelerated cloud hosted embedding model."
   ]
  },
  {
   "cell_type": "code",
   "execution_count": 1,
   "id": "79771ce9",
   "metadata": {},
   "outputs": [
    {
     "name": "stdout",
     "output_type": "stream",
     "text": [
      "Enter your NVIDIA API key:  ········\n"
     ]
    }
   ],
   "source": [
    "import getpass\n",
    "import os\n",
    "\n",
    "if not os.environ.get(\"NVIDIA_API_KEY\", \"\").startswith(\"nvapi-\"):\n",
    "    nvapi_key = getpass.getpass(\"Enter your NVIDIA API key: \")\n",
    "    assert nvapi_key.startswith(\"nvapi-\"), f\"{nvapi_key[:5]}... is not a valid key\"\n",
    "    os.environ[\"NVIDIA_API_KEY\"] = nvapi_key"
   ]
  },
  {
   "cell_type": "markdown",
   "id": "5584e3b1",
   "metadata": {},
   "source": [
    "We can now connect with the deployed NIM LLM model in LangChain by specifying the base URL"
   ]
  },
  {
   "cell_type": "code",
   "execution_count": 2,
   "id": "35baa8c6",
   "metadata": {},
   "outputs": [
    {
     "name": "stdout",
     "output_type": "stream",
     "text": [
      "The capital of France is Paris.\n"
     ]
    }
   ],
   "source": [
    "from langchain_nvidia_ai_endpoints import ChatNVIDIA\n",
    "\n",
    "llm = ChatNVIDIA(base_url=\"http://0.0.0.0:8000/v1\", model=\"meta/llama3-8b-instruct\", temperature=0.1, max_tokens=1000, top_p=1.0)\n",
    "\n",
    "result = llm.invoke(\"What is the capital of France?\")\n",
    "print(result.content)"
   ]
  },
  {
   "cell_type": "markdown",
   "id": "f95b2753",
   "metadata": {},
   "source": [
    "Import all the required libraries for building the langchain agent."
   ]
  },
  {
   "cell_type": "code",
   "execution_count": 3,
   "id": "42bf2619-1ca3-4477-82b8-88c240dd87ad",
   "metadata": {},
   "outputs": [],
   "source": [
    "import os\n",
    "from langchain.chains import ConversationalRetrievalChain, LLMChain\n",
    "from langchain.chains.conversational_retrieval.prompts import CONDENSE_QUESTION_PROMPT, QA_PROMPT\n",
    "from langchain.chains.question_answering import load_qa_chain\n",
    "from langchain.memory import ConversationBufferMemory\n",
    "from langchain.vectorstores import FAISS\n",
    "from langchain.text_splitter import RecursiveCharacterTextSplitter\n",
    "from langchain_nvidia_ai_endpoints import ChatNVIDIA\n",
    "from langchain_nvidia_ai_endpoints import NVIDIAEmbeddings"
   ]
  },
  {
   "attachments": {},
   "cell_type": "markdown",
   "id": "eb7f8822",
   "metadata": {},
   "source": [
    "Helper functions for loading html files, which we'll use to generate the embeddings. We'll use this later to load the relevant html documents from the Triton documentation website and convert to a vector store."
   ]
  },
  {
   "cell_type": "code",
   "execution_count": 17,
   "id": "f8097819",
   "metadata": {},
   "outputs": [],
   "source": [
    "import re\n",
    "from typing import List, Union\n",
    "\n",
    "import requests\n",
    "from bs4 import BeautifulSoup\n",
    "\n",
    "def html_document_loader(url: Union[str, bytes]) -> str:\n",
    "    \"\"\"\n",
    "    Loads the HTML content of a document from a given URL and return it's content.\n",
    "\n",
    "    Args:\n",
    "        url: The URL of the document.\n",
    "\n",
    "    Returns:\n",
    "        The content of the document.\n",
    "\n",
    "    Raises:\n",
    "        Exception: If there is an error while making the HTTP request.\n",
    "\n",
    "    \"\"\"\n",
    "    try:\n",
    "        response = requests.get(url)\n",
    "        html_content = response.text\n",
    "    except Exception as e:\n",
    "        print(f\"Failed to load {url} due to exception {e}\")\n",
    "        return \"\"\n",
    "\n",
    "    try:\n",
    "        # Create a Beautiful Soup object to parse html\n",
    "        soup = BeautifulSoup(html_content, \"html.parser\")\n",
    "\n",
    "        # Remove script and style tags\n",
    "        for script in soup([\"script\", \"style\"]):\n",
    "            script.extract()\n",
    "\n",
    "        # Get the plain text from the HTML document\n",
    "        text = soup.get_text()\n",
    "\n",
    "        # Remove excess whitespace and newlines\n",
    "        text = re.sub(\"\\s+\", \" \", text).strip()\n",
    "\n",
    "        return text\n",
    "    except Exception as e:\n",
    "        print(f\"Exception {e} while loading document\")\n",
    "        return \"\""
   ]
  },
  {
   "attachments": {},
   "cell_type": "markdown",
   "id": "b6a2d1e0",
   "metadata": {},
   "source": [
    "Read html files and split text in preparation for embedding generation\n",
    "Note chunk_size value must match the specific LLM used for embedding genetation\n",
    "\n",
    "Make sure to pay attention to the chunk_size parameter in TextSplitter. Setting the right chunk size is critical for RAG performance, as much of a RAG’s success is based on the retrieval step finding the right context for generation. The entire prompt (retrieved chunks + user query) must fit within the LLM’s context window. Therefore, you should not specify chunk sizes too big, and balance them out with the estimated query size. For example, while OpenAI LLMs have a context window of 8k-32k tokens, Llama3 is limited to 8k tokens. Experiment with different chunk sizes, but typical values should be 100-600, depending on the LLM."
   ]
  },
  {
   "cell_type": "code",
   "execution_count": 26,
   "id": "56aa8900",
   "metadata": {},
   "outputs": [],
   "source": [
    "def create_embeddings(embedding_path: str = \"./data/nv_embedding\"):\n",
    "\n",
    "    embedding_path = \"./data/nv_embedding\"\n",
    "    print(f\"Storing embeddings to {embedding_path}\")\n",
    "\n",
    "    # List of web pages containing NVIDIA Triton technical documentation\n",
    "    urls = [\n",
    "         \"https://docs.nvidia.com/deeplearning/triton-inference-server/user-guide/docs/index.html\",\n",
    "         \"https://docs.nvidia.com/deeplearning/triton-inference-server/user-guide/docs/getting_started/quickstart.html\",\n",
    "         \"https://docs.nvidia.com/deeplearning/triton-inference-server/user-guide/docs/user_guide/model_repository.html\",\n",
    "         \"https://docs.nvidia.com/deeplearning/triton-inference-server/user-guide/docs/user_guide/model_analyzer.html\",\n",
    "         \"https://docs.nvidia.com/deeplearning/triton-inference-server/user-guide/docs/user_guide/architecture.html\",\n",
    "    ]\n",
    "\n",
    "    documents = []\n",
    "    for url in urls:\n",
    "        document = html_document_loader(url)\n",
    "        documents.append(document)\n",
    "\n",
    "\n",
    "    text_splitter = RecursiveCharacterTextSplitter(\n",
    "        chunk_size=1000,\n",
    "        chunk_overlap=0,\n",
    "        length_function=len,\n",
    "    )\n",
    "    texts = text_splitter.create_documents(documents)\n",
    "    index_docs(url, text_splitter, texts, embedding_path)\n",
    "    print(\"Generated embedding successfully\")"
   ]
  },
  {
   "attachments": {},
   "cell_type": "markdown",
   "id": "4d4e2097",
   "metadata": {},
   "source": [
    "Generate embeddings using NVIDIA Retrieval QA Embedding NIM and NVIDIA AI Endpoints for LangChain and save embeddings to offline vector store in the /embed directory for future re-use"
   ]
  },
  {
   "cell_type": "code",
   "execution_count": 27,
   "id": "fc7e6a93",
   "metadata": {},
   "outputs": [],
   "source": [
    "def index_docs(url: Union[str, bytes], splitter, documents: List[str], dest_embed_dir) -> None:\n",
    "    \"\"\"\n",
    "    Split the document into chunks and create embeddings for the document\n",
    "\n",
    "    Args:\n",
    "        url: Source url for the document.\n",
    "        splitter: Splitter used to split the document\n",
    "        documents: list of documents whose embeddings needs to be created\n",
    "        dest_embed_dir: destination directory for embeddings\n",
    "\n",
    "    Returns:\n",
    "        None\n",
    "    \"\"\"\n",
    "    embeddings = NVIDIAEmbeddings(model=\"NV-Embed-QA\", truncate=\"END\")\n",
    "\n",
    "    for document in documents:\n",
    "        texts = splitter.split_text(document.page_content)\n",
    "\n",
    "        # metadata to attach to document\n",
    "        metadatas = [document.metadata]\n",
    "\n",
    "        # create embeddings and add to vector store\n",
    "        if os.path.exists(dest_embed_dir):\n",
    "            update = FAISS.load_local(folder_path=dest_embed_dir, embeddings=embeddings, allow_dangerous_deserialization=True)\n",
    "            update.add_texts(texts, metadatas=metadatas)\n",
    "            update.save_local(folder_path=dest_embed_dir)\n",
    "        else:\n",
    "            docsearch = FAISS.from_texts(texts, embedding=embeddings, metadatas=metadatas)\n",
    "            docsearch.save_local(folder_path=dest_embed_dir)"
   ]
  },
  {
   "attachments": {},
   "cell_type": "markdown",
   "id": "44650d71",
   "metadata": {},
   "source": [
    "### Second stage is to load the embeddings from the vector store and build a RAG using NVIDIAEmbeddings\n",
    "\n",
    "Create the embeddings model using NVIDIA Retrieval QA Embedding NIM from the API Catalog. This model represents words, phrases, or other entities as vectors of numbers and understands the relation between words and phrases. See here for reference: https://build.nvidia.com/nvidia/embed-qa-4"
   ]
  },
  {
   "cell_type": "code",
   "execution_count": 28,
   "id": "10db1c5c-f515-460f-bf23-5d68f195e52b",
   "metadata": {},
   "outputs": [
    {
     "name": "stdout",
     "output_type": "stream",
     "text": [
      "Storing embeddings to ./data/nv_embedding\n",
      "Generated embedding successfully\n"
     ]
    }
   ],
   "source": [
    "\n",
    "\n",
    "create_embeddings()\n",
    "\n",
    "embedding_model = NVIDIAEmbeddings(model=\"NV-Embed-QA\", truncate=\"END\")\n"
   ]
  },
  {
   "cell_type": "markdown",
   "id": "73f9f5e2",
   "metadata": {},
   "source": [
    "Load documents from vector database using FAISS"
   ]
  },
  {
   "cell_type": "code",
   "execution_count": 29,
   "id": "d55bb79e-5bb6-409d-8ead-3c3006aeb2ed",
   "metadata": {},
   "outputs": [],
   "source": [
    "# Embed documents\n",
    "embedding_path = \"./data/nv_embedding\"\n",
    "docsearch = FAISS.load_local(folder_path=embedding_path, embeddings=embedding_model, allow_dangerous_deserialization=True)"
   ]
  },
  {
   "cell_type": "markdown",
   "id": "7614e948-aab6-40d5-bf14-4f8ba99b1329",
   "metadata": {},
   "source": [
    "Create a ConversationalRetrievalChain chain using a local NIM. We'll use the Llama3 8B NIM we created and deployed locally, add memory for chat history, and connect to the vector store via the embedding model. See here for reference: https://python.langchain.com/docs/modules/chains/popular/chat_vector_db#conversationalretrievalchain-with-streaming-to-stdout"
   ]
  },
  {
   "cell_type": "code",
   "execution_count": 30,
   "id": "94b49b4a",
   "metadata": {},
   "outputs": [],
   "source": [
    "llm = ChatNVIDIA(base_url=\"http://0.0.0.0:8000/v1\", model=\"meta/llama3-8b-instruct\", temperature=0.1, max_tokens=1000, top_p=1.0)\n",
    "\n",
    "memory = ConversationBufferMemory(memory_key=\"chat_history\", return_messages=True)\n",
    "\n",
    "qa_prompt=QA_PROMPT\n",
    "\n",
    "doc_chain = load_qa_chain(llm, chain_type=\"stuff\", prompt=QA_PROMPT)\n",
    "\n",
    "qa = ConversationalRetrievalChain.from_llm(\n",
    "    llm=llm,\n",
    "    retriever=docsearch.as_retriever(),\n",
    "    chain_type=\"stuff\",\n",
    "    memory=memory,\n",
    "    combine_docs_chain_kwargs={'prompt': qa_prompt},\n",
    ")"
   ]
  },
  {
   "cell_type": "markdown",
   "id": "f60f2240",
   "metadata": {},
   "source": [
    "Now try asking a question about Triton with the simpler chain. Compare the answer to the result with previous complex chain model"
   ]
  },
  {
   "cell_type": "code",
   "execution_count": 32,
   "id": "9add6e2e",
   "metadata": {},
   "outputs": [
    {
     "name": "stdout",
     "output_type": "stream",
     "text": [
      "I don't know.\n"
     ]
    }
   ],
   "source": [
    "query = \"What is Triton?\"\n",
    "result = qa({\"question\": query})\n",
    "print(result.get(\"answer\"))"
   ]
  },
  {
   "cell_type": "markdown",
   "id": "43b1cddd",
   "metadata": {},
   "source": [
    "Ask another question about Triton"
   ]
  },
  {
   "cell_type": "code",
   "execution_count": 95,
   "id": "62654a9a",
   "metadata": {},
   "outputs": [
    {
     "name": "stdout",
     "output_type": "stream",
     "text": [
      "Yes, Triton supports ONNX models. According to the provided context, Triton supports all ONNX models that are supported by the version of ONNX Runtime being used by Triton.\n"
     ]
    }
   ],
   "source": [
    "query = \"Does Triton support ONNX?\"\n",
    "result = qa({\"question\": query})\n",
    "print(result.get(\"answer\"))"
   ]
  },
  {
   "cell_type": "markdown",
   "id": "f178ac86",
   "metadata": {},
   "source": [
    "Finally showcase chat capabilites by asking a question about the previous query"
   ]
  },
  {
   "cell_type": "code",
   "execution_count": 96,
   "id": "781e058e",
   "metadata": {},
   "outputs": [
    {
     "name": "stdout",
     "output_type": "stream",
     "text": [
      "Triton supports all ONNX models that are supported by the version of ONNX Runtime being used by Triton because it relies on ONNX Runtime to run the models.\n"
     ]
    }
   ],
   "source": [
    "query = \"But why?\"\n",
    "result = qa({\"question\": query})\n",
    "print(result.get(\"answer\"))"
   ]
  },
  {
   "cell_type": "code",
   "execution_count": null,
   "id": "a17cc4e5-2877-4229-9895-6b509eb02794",
   "metadata": {},
   "outputs": [],
   "source": []
  }
 ],
 "metadata": {
  "kernelspec": {
   "display_name": "Python 3 (ipykernel)",
   "language": "python",
   "name": "python3"
  },
  "language_info": {
   "codemirror_mode": {
    "name": "ipython",
    "version": 3
   },
   "file_extension": ".py",
   "mimetype": "text/x-python",
   "name": "python",
   "nbconvert_exporter": "python",
   "pygments_lexer": "ipython3",
   "version": "3.10.12"
  }
 },
 "nbformat": 4,
 "nbformat_minor": 5
}
